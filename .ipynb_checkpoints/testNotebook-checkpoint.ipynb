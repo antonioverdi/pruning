{
 "cells": [
  {
   "cell_type": "code",
   "execution_count": 1,
   "metadata": {},
   "outputs": [],
   "source": [
    "import numpy as np\n",
    "import torch\n",
    "import torchvision.models as models\n",
    "import utils\n",
    "import torch.nn as nn"
   ]
  },
  {
   "cell_type": "code",
   "execution_count": 2,
   "metadata": {},
   "outputs": [
    {
     "data": {
      "text/plain": [
       "<All keys matched successfully>"
      ]
     },
     "execution_count": 2,
     "metadata": {},
     "output_type": "execute_result"
    }
   ],
   "source": [
    "PATH1 = \"test_models/resnet18.pth\"\n",
    "model1 = models.resnet18()\n",
    "model1.load_state_dict(torch.load(PATH1))\n",
    "PATH2 = \"test_models/resnet18_pretrained.pth\"\n",
    "model2 = models.resnet18()\n",
    "model2.load_state_dict(torch.load(PATH2))"
   ]
  },
  {
   "cell_type": "code",
   "execution_count": 2,
   "metadata": {},
   "outputs": [
    {
     "data": {
      "text/plain": [
       "'\\ncounter=0\\nfor name, module in model1.named_modules():\\n    if isinstance(module, torch.nn.Conv2d):\\n        if counter==0:\\n            array_module = module.weight.detach().numpy()\\n            test_array = np.ones_like(array_module)\\n            module.weight = nn.Parameter(torch.from_numpy(test_array).float())\\n        counter+=1\\n'"
      ]
     },
     "execution_count": 2,
     "metadata": {},
     "output_type": "execute_result"
    }
   ],
   "source": [
    "\"\"\"\n",
    "counter=0\n",
    "for name, module in model1.named_modules():\n",
    "    if isinstance(module, torch.nn.Conv2d):\n",
    "        if counter==0:\n",
    "            array_module = module.weight.detach().numpy()\n",
    "            test_array = np.ones_like(array_module)\n",
    "            module.weight = nn.Parameter(torch.from_numpy(test_array).float())\n",
    "        counter+=1\n",
    "\"\"\""
   ]
  },
  {
   "cell_type": "code",
   "execution_count": null,
   "metadata": {},
   "outputs": [],
   "source": []
  },
  {
   "cell_type": "code",
   "execution_count": null,
   "metadata": {},
   "outputs": [],
   "source": []
  },
  {
   "cell_type": "code",
   "execution_count": 3,
   "metadata": {},
   "outputs": [
    {
     "name": "stdout",
     "output_type": "stream",
     "text": [
      "(64, 3, 7, 7)\n",
      "(64, 64, 3, 3)\n",
      "(64, 64, 3, 3)\n",
      "(64, 64, 3, 3)\n",
      "(64, 64, 3, 3)\n",
      "(128, 64, 3, 3)\n",
      "(128, 128, 3, 3)\n",
      "(128, 64, 1, 1)\n",
      "(128, 128, 3, 3)\n",
      "(128, 128, 3, 3)\n",
      "(256, 128, 3, 3)\n",
      "(256, 256, 3, 3)\n",
      "(256, 128, 1, 1)\n",
      "(256, 256, 3, 3)\n",
      "(256, 256, 3, 3)\n",
      "(512, 256, 3, 3)\n",
      "(512, 512, 3, 3)\n",
      "(512, 256, 1, 1)\n",
      "(512, 512, 3, 3)\n",
      "(512, 512, 3, 3)\n"
     ]
    }
   ],
   "source": [
    "for name1, module1 in model1.named_modules():\n",
    "    for name2, module2 in model2.named_modules():\n",
    "        if name1 == name2:\n",
    "            if isinstance(module1, torch.nn.Conv2d):\n",
    "                array1 = module1.weight.detach().numpy()\n",
    "                array2 = module2.weight.detach().numpy()\n",
    "                difference = utils.find_difference(array1, array2)\n",
    "                mask = utils.find_smallest(difference, 0.2)\n",
    "                module2.weight = utils.apply_mask(mask, array2)"
   ]
  },
  {
   "cell_type": "code",
   "execution_count": 5,
   "metadata": {},
   "outputs": [],
   "source": []
  },
  {
   "cell_type": "code",
   "execution_count": null,
   "metadata": {},
   "outputs": [],
   "source": []
  },
  {
   "cell_type": "code",
   "execution_count": null,
   "metadata": {},
   "outputs": [],
   "source": []
  },
  {
   "cell_type": "code",
   "execution_count": null,
   "metadata": {},
   "outputs": [],
   "source": []
  },
  {
   "cell_type": "code",
   "execution_count": null,
   "metadata": {},
   "outputs": [],
   "source": []
  },
  {
   "cell_type": "code",
   "execution_count": null,
   "metadata": {},
   "outputs": [],
   "source": []
  }
 ],
 "metadata": {
  "kernelspec": {
   "display_name": "Python 3",
   "language": "python",
   "name": "python3"
  },
  "language_info": {
   "codemirror_mode": {
    "name": "ipython",
    "version": 3
   },
   "file_extension": ".py",
   "mimetype": "text/x-python",
   "name": "python",
   "nbconvert_exporter": "python",
   "pygments_lexer": "ipython3",
   "version": "3.8.5"
  }
 },
 "nbformat": 4,
 "nbformat_minor": 4
}
