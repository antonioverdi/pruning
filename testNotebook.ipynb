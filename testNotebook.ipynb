{
 "cells": [
  {
   "cell_type": "code",
   "execution_count": 1,
   "metadata": {},
   "outputs": [],
   "source": [
    "import numpy as np\n",
    "import torch\n",
    "import torchvision.models as models\n",
    "import utils\n",
    "import torch.nn as nn\n",
    "import prune\n",
    "import matplotlib.pyplot as plt\n",
    "import json\n",
    "import resnet"
   ]
  },
  {
   "cell_type": "code",
   "execution_count": 3,
   "metadata": {},
   "outputs": [
    {
     "data": {
      "text/plain": [
       "<All keys matched successfully>"
      ]
     },
     "execution_count": 3,
     "metadata": {},
     "output_type": "execute_result"
    }
   ],
   "source": [
    "model1 = torch.nn.DataParallel(resnet.ResNet18())\n",
    "test = torch.load('save_temp/model.th', map_location=torch.device('cpu'))['state_dict']\n",
    "model1.load_state_dict(test)"
   ]
  },
  {
   "cell_type": "code",
   "execution_count": 9,
   "metadata": {},
   "outputs": [
    {
     "name": "stdout",
     "output_type": "stream",
     "text": [
      "tensor(1092)\n",
      "1728\n",
      "tensor(23793)\n",
      "36864\n",
      "tensor(23354)\n",
      "36864\n",
      "tensor(24194)\n",
      "36864\n",
      "tensor(23375)\n",
      "36864\n",
      "tensor(47503)\n",
      "73728\n",
      "tensor(94903)\n",
      "147456\n",
      "tensor(5315)\n",
      "8192\n",
      "tensor(92554)\n",
      "147456\n",
      "tensor(94485)\n",
      "147456\n",
      "tensor(189367)\n",
      "294912\n",
      "tensor(374704)\n",
      "589824\n",
      "tensor(20807)\n",
      "32768\n",
      "tensor(377234)\n",
      "589824\n",
      "tensor(379081)\n",
      "589824\n",
      "tensor(754575)\n",
      "1179648\n",
      "tensor(1514632)\n",
      "2359296\n",
      "tensor(84320)\n",
      "131072\n",
      "tensor(1508861)\n",
      "2359296\n",
      "tensor(1517923)\n",
      "2359296\n",
      "module.linear\n"
     ]
    }
   ],
   "source": [
    "for name, module in model1.named_modules():\n",
    "        if isinstance(module, torch.nn.Conv2d):\n",
    "            print(torch.count_nonzero(module.weight.detach()))\n",
    "            print(len(module.weight.detach().numpy().flatten()))\n",
    "        elif isinstance(module, torch.nn.Linear):\n",
    "            print(name)"
   ]
  },
  {
   "cell_type": "code",
   "execution_count": 29,
   "metadata": {},
   "outputs": [],
   "source": []
  },
  {
   "cell_type": "code",
   "execution_count": null,
   "metadata": {},
   "outputs": [],
   "source": []
  },
  {
   "cell_type": "code",
   "execution_count": null,
   "metadata": {},
   "outputs": [],
   "source": []
  },
  {
   "cell_type": "code",
   "execution_count": 5,
   "metadata": {},
   "outputs": [],
   "source": []
  },
  {
   "cell_type": "code",
   "execution_count": null,
   "metadata": {},
   "outputs": [],
   "source": []
  },
  {
   "cell_type": "code",
   "execution_count": null,
   "metadata": {},
   "outputs": [],
   "source": []
  },
  {
   "cell_type": "code",
   "execution_count": null,
   "metadata": {},
   "outputs": [],
   "source": []
  },
  {
   "cell_type": "code",
   "execution_count": null,
   "metadata": {},
   "outputs": [],
   "source": []
  },
  {
   "cell_type": "code",
   "execution_count": null,
   "metadata": {},
   "outputs": [],
   "source": []
  }
 ],
 "metadata": {
  "kernelspec": {
   "display_name": "Python 3",
   "language": "python",
   "name": "python3"
  },
  "language_info": {
   "codemirror_mode": {
    "name": "ipython",
    "version": 3
   },
   "file_extension": ".py",
   "mimetype": "text/x-python",
   "name": "python",
   "nbconvert_exporter": "python",
   "pygments_lexer": "ipython3",
   "version": "3.8.5"
  }
 },
 "nbformat": 4,
 "nbformat_minor": 4
}
